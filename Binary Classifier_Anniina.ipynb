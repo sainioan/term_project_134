{
 "cells": [
  {
   "cell_type": "markdown",
   "metadata": {},
   "source": [
    "Logistic Regression\n",
    "k-Nearest Neighbors\n",
    "Decision Trees\n",
    "Support Vector Machine\n",
    "Naive Bayes\n",
    "\n",
    "I suppose we build the model from scratch?\n",
    "Do we need to preprocess the data? Are there some highly correlated variables?\n",
    "feature selection.\n",
    "SVM \n"
   ]
  },
  {
   "cell_type": "code",
   "execution_count": 27,
   "metadata": {},
   "outputs": [],
   "source": [
    "import numpy as np\n",
    "import pandas as pd\n",
    "import scipy\n",
    "import sklearn as sk\n",
    "from sklearn import svm\n",
    "from sklearn.metrics import plot_confusion_matrix\n",
    "\n",
    "import matplotlib.pyplot as plt\n",
    "# Initialize SVM classifier\n",
    "clf = svm.SVC(kernel='linear')\n",
    "\n",
    "from sklearn.model_selection import train_test_split\n",
    "from sklearn.preprocessing import StandardScaler\n",
    "from sklearn.metrics import classification_report, confusion_matrix, accuracy_score\n",
    "\n",
    "from mlxtend.plotting import plot_decision_regions\n",
    "\n",
    "df = pd.read_csv(\"npf_train.csv\")\n",
    "df\n",
    "df = df.set_index(\"date\")"
   ]
  },
  {
   "cell_type": "code",
   "execution_count": 28,
   "metadata": {},
   "outputs": [
    {
     "data": {
      "image/png": "[encoded data removed]",
      "text/plain": [
       "<Figure size 432x288 with 2 Axes>"
      ]
     },
     "metadata": {
      "needs_background": "light"
     },
     "output_type": "display_data"
    },
    {
     "name": "stdout",
     "output_type": "stream",
     "text": [
      "[[5.00000000e+01 0.00000000e+00 3.60618000e+02 ... 2.81223044e-01\n",
      "  5.19527976e-03 1.19901234e-03]\n",
      " [4.10000000e+02 0.00000000e+00 3.81465904e+02 ... 9.36350227e-01\n",
      "  5.73921034e-03 6.15564061e-04]\n",
      " [1.36000000e+02 0.00000000e+00 3.66138171e+02 ... 6.77657907e-01\n",
      "  3.61651111e-03 1.28740178e-03]\n",
      " ...\n",
      " [1.78000000e+02 0.00000000e+00 3.65859581e+02 ... 7.28718902e-01\n",
      "  5.28730696e-03 4.44737049e-04]\n",
      " [4.05000000e+02 0.00000000e+00 3.90094967e+02 ... 4.58378656e-01\n",
      "  4.33793935e-03 1.88840283e-03]\n",
      " [3.60000000e+02 0.00000000e+00 3.81123937e+02 ... 3.41716681e-01\n",
      "  3.03757595e-03 1.24416938e-03]]\n"
     ]
    },
    {
     "ename": "NameError",
     "evalue": "name 'y_pred' is not defined",
     "output_type": "error",
     "traceback": [
      "\u001b[0;31m---------------------------------------------------------------------------\u001b[0m",
      "\u001b[0;31mNameError\u001b[0m                                 Traceback (most recent call last)",
      "\u001b[0;32m<ipython-input-28-5d6b50ad4d82>\u001b[0m in \u001b[0;36m<module>\u001b[0;34m\u001b[0m\n\u001b[1;32m     23\u001b[0m \u001b[0msupport_vectors\u001b[0m \u001b[0;34m=\u001b[0m \u001b[0mclf\u001b[0m\u001b[0;34m.\u001b[0m\u001b[0msupport_vectors_\u001b[0m\u001b[0;34m\u001b[0m\u001b[0;34m\u001b[0m\u001b[0m\n\u001b[1;32m     24\u001b[0m \u001b[0mprint\u001b[0m\u001b[0;34m(\u001b[0m\u001b[0msupport_vectors\u001b[0m\u001b[0;34m)\u001b[0m\u001b[0;34m\u001b[0m\u001b[0;34m\u001b[0m\u001b[0m\n\u001b[0;32m---> 25\u001b[0;31m \u001b[0mprint\u001b[0m\u001b[0;34m(\u001b[0m\u001b[0;34m\"accuracy_score: \"\u001b[0m\u001b[0;34m,\u001b[0m \u001b[0maccuracy_score\u001b[0m\u001b[0;34m(\u001b[0m\u001b[0my_test\u001b[0m\u001b[0;34m,\u001b[0m \u001b[0my_pred\u001b[0m\u001b[0;34m)\u001b[0m\u001b[0;34m)\u001b[0m\u001b[0;34m\u001b[0m\u001b[0;34m\u001b[0m\u001b[0m\n\u001b[0m\u001b[1;32m     26\u001b[0m \u001b[0;31m# Visualize support vectors\u001b[0m\u001b[0;34m\u001b[0m\u001b[0;34m\u001b[0m\u001b[0;34m\u001b[0m\u001b[0m\n\u001b[1;32m     27\u001b[0m \u001b[0;31m# plt.scatter(X_train[:,0], X_train[:,1])\u001b[0m\u001b[0;34m\u001b[0m\u001b[0;34m\u001b[0m\u001b[0;34m\u001b[0m\u001b[0m\n",
      "\u001b[0;31mNameError\u001b[0m: name 'y_pred' is not defined"
     ]
    }
   ],
   "source": [
    "class2 = np.array([\"event\"]*df.shape[0],dtype=\"object\")\n",
    "class2[df[\"class4\"]==\"nonevent\"] = \"nonevent\"\n",
    "df[\"class2\"] = class2\n",
    "df[\"class2\"] = df[\"class2\"].astype(\"category\")\n",
    "\n",
    "y = df.class2\n",
    "X = df.drop([\"class2\", \"class4\"], axis=1)\n",
    "\n",
    "X_train, X_test, y_train, y_test = train_test_split(X, y, test_size=0.2, random_state=0)\n",
    "# Predict the test set\n",
    "clf = clf.fit(X_train, y_train)\n",
    "y_pred = clf.predict(X_test)\n",
    "\n",
    "# Generate confusion matrix\n",
    "matrix = plot_confusion_matrix(clf, X_test, y_test,\n",
    "                                 cmap=plt.cm.Blues,\n",
    "                                 normalize='true')\n",
    "plt.title('Confusion matrix for our classifier')\n",
    "plt.show(matrix)\n",
    "plt.show()\n",
    "\n",
    "# Get support vectors\n",
    "support_vectors = clf.support_vectors_\n",
    "print(support_vectors)\n",
    "print(\"accuracy_score: \", accuracy_score(y_test, y_pred))\n",
    "# Visualize support vectors\n",
    "# plt.scatter(X_train[:,0], X_train[:,1])\n",
    "# plt.scatter(support_vectors[:,0], support_vectors[:,1], color='red')\n",
    "# plt.title('Linearly separable data with support vectors')\n",
    "# plt.xlabel('X1')\n",
    "# plt.ylabel('X2')\n",
    "# plt.show()\n",
    "# plot_decision_regions(X_test, y_test, clf=clf, legend=2)\n",
    "# plt.show()"
   ]
  },
  {
   "cell_type": "code",
   "execution_count": null,
   "metadata": {},
   "outputs": [],
   "source": []
  },
  {
   "cell_type": "code",
   "execution_count": null,
   "metadata": {},
   "outputs": [],
   "source": []
  }
 ],
 "metadata": {
  "kernelspec": {
   "display_name": "Python 3",
   "language": "python",
   "name": "python3"
  },
  "language_info": {
   "codemirror_mode": {
    "name": "ipython",
    "version": 3
   },
   "file_extension": ".py",
   "mimetype": "text/x-python",
   "name": "python",
   "nbconvert_exporter": "python",
   "pygments_lexer": "ipython3",
   "version": "3.8.5"
  }
 },
 "nbformat": 4,
 "nbformat_minor": 4
}
