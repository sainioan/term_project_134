{
 "cells": [
  {
   "cell_type": "markdown",
   "metadata": {},
   "source": [
    "Logistic Regression\n",
    "k-Nearest Neighbors\n",
    "Decision Trees\n",
    "Support Vector Machine\n",
    "Naive Bayes\n",
    "\n",
    "I suppose we build the model from scratch?\n",
    "Do we need to preprocess the data? Are there some highly correlated variables?\n",
    "feature selection.\n",
    "SVM \n"
   ]
  },
  {
   "cell_type": "code",
   "execution_count": 29,
   "metadata": {},
   "outputs": [],
   "source": [
    "import numpy as np\n",
    "import pandas as pd\n",
    "import scipy\n",
    "import sklearn as sk\n",
    "from sklearn import svm\n",
    "from sklearn.metrics import plot_confusion_matrix\n",
    "\n",
    "import matplotlib.pyplot as plt\n",
    "# Initialize SVM classifier\n",
    "clf = svm.SVC(kernel='linear')\n",
    "\n",
    "from sklearn.model_selection import train_test_split\n",
    "from sklearn.preprocessing import StandardScaler\n",
    "from sklearn.metrics import classification_report, confusion_matrix, accuracy_score\n",
    "\n",
    "from mlxtend.plotting import plot_decision_regions\n",
    "\n",
    "df = pd.read_csv(\"npf_train.csv\")\n",
    "df\n",
    "df = df.set_index(\"date\")"
   ]
  },
  {
   "cell_type": "code",
   "execution_count": 32,
   "metadata": {},
   "outputs": [
    {
     "data": {
      "image/png": "[encoded data removed]",
      "text/plain": [
       "<Figure size 432x288 with 2 Axes>"
      ]
     },
     "metadata": {
      "needs_background": "light"
     },
     "output_type": "display_data"
    },
    {
     "name": "stdout",
     "output_type": "stream",
     "text": [
      "[[3.15000000e+02 0.00000000e+00 3.70077551e+02 ... 6.90409018e-01\n",
      "  1.67152725e-03 4.85027892e-04]\n",
      " [4.52000000e+02 0.00000000e+00 4.01099775e+02 ... 4.82913578e-01\n",
      "  4.91383679e-03 1.15580454e-03]\n",
      " [3.59000000e+02 0.00000000e+00 3.77448880e+02 ... 5.58320064e-01\n",
      "  6.15891358e-03 7.96902808e-04]\n",
      " ...\n",
      " [3.60000000e+02 0.00000000e+00 3.81123937e+02 ... 3.41716681e-01\n",
      "  3.03757595e-03 1.24416938e-03]\n",
      " [2.10000000e+01 0.00000000e+00 3.61574537e+02 ... 7.24346747e-01\n",
      "  4.24648673e-03 9.65462300e-04]\n",
      " [3.49000000e+02 0.00000000e+00 3.78386316e+02 ... 9.23022952e-01\n",
      "  4.76832054e-03 1.95954151e-03]]\n",
      "accuracy_score:  0.8043478260869565\n",
      "['event' 'nonevent' 'event' 'event' 'event' 'nonevent' 'nonevent' 'event'\n",
      " 'event' 'event' 'nonevent' 'event' 'event' 'nonevent' 'nonevent' 'event'\n",
      " 'nonevent' 'nonevent' 'nonevent' 'nonevent' 'nonevent' 'event' 'event'\n",
      " 'event' 'nonevent' 'nonevent' 'nonevent' 'nonevent' 'event' 'event'\n",
      " 'nonevent' 'event' 'event' 'event' 'event' 'nonevent' 'event' 'nonevent'\n",
      " 'nonevent' 'event' 'nonevent' 'nonevent' 'event' 'nonevent' 'nonevent'\n",
      " 'nonevent' 'event' 'nonevent' 'nonevent' 'event' 'event' 'nonevent'\n",
      " 'nonevent' 'event' 'nonevent' 'nonevent' 'event' 'event' 'nonevent'\n",
      " 'nonevent' 'event' 'nonevent' 'nonevent' 'nonevent' 'nonevent' 'event'\n",
      " 'nonevent' 'nonevent' 'event' 'event' 'event' 'nonevent' 'nonevent'\n",
      " 'nonevent' 'nonevent' 'nonevent' 'nonevent' 'nonevent' 'event' 'event'\n",
      " 'event' 'nonevent' 'nonevent' 'nonevent' 'nonevent' 'event' 'nonevent'\n",
      " 'event' 'nonevent' 'event' 'nonevent' 'event']\n"
     ]
    }
   ],
   "source": [
    "class2 = np.array([\"event\"]*df.shape[0],dtype=\"object\")\n",
    "class2[df[\"class4\"]==\"nonevent\"] = \"nonevent\"\n",
    "df[\"class2\"] = class2\n",
    "df[\"class2\"] = df[\"class2\"].astype(\"category\")\n",
    "\n",
    "y = df.class2\n",
    "X = df.drop([\"class2\", \"class4\"], axis=1)\n",
    "\n",
    "X_train, X_test, y_train, y_test = train_test_split(X, y, test_size=0.2, random_state=42)\n",
    "# Predict the test set\n",
    "clf = clf.fit(X_train, y_train)\n",
    "y_pred = clf.predict(X_test)\n",
    "\n",
    "# Generate confusion matrix\n",
    "matrix = plot_confusion_matrix(clf, X_test, y_test,\n",
    "                                 cmap=plt.cm.Blues,\n",
    "                                 normalize='true')\n",
    "plt.title('Confusion matrix for our classifier')\n",
    "plt.show(matrix)\n",
    "plt.show()\n",
    "\n",
    "# Get support vectors\n",
    "support_vectors = clf.support_vectors_\n",
    "print(support_vectors)\n",
    "print(\"accuracy_score: \", accuracy_score(y_test, y_pred))\n",
    "print(y_pred)\n",
    "# Visualize support vectors\n",
    "# plt.scatter(X_train[:,0], X_train[:,1])\n",
    "# plt.scatter(support_vectors[:,0], support_vectors[:,1], color='red')\n",
    "# plt.title('Linearly separable data with support vectors')\n",
    "# plt.xlabel('X1')\n",
    "# plt.ylabel('X2')\n",
    "# plt.show()\n",
    "# plot_decision_regions(X_test, y_test, clf=clf, legend=2)\n",
    "# plt.show()"
   ]
  },
  {
   "cell_type": "code",
   "execution_count": null,
   "metadata": {},
   "outputs": [],
   "source": []
  },
  {
   "cell_type": "code",
   "execution_count": null,
   "metadata": {},
   "outputs": [],
   "source": []
  }
 ],
 "metadata": {
  "kernelspec": {
   "display_name": "Python 3",
   "language": "python",
   "name": "python3"
  },
  "language_info": {
   "codemirror_mode": {
    "name": "ipython",
    "version": 3
   },
   "file_extension": ".py",
   "mimetype": "text/x-python",
   "name": "python",
   "nbconvert_exporter": "python",
   "pygments_lexer": "ipython3",
   "version": "3.8.5"
  }
 },
 "nbformat": 4,
 "nbformat_minor": 4
}
